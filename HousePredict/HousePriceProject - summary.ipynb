{
 "cells": [
  {
   "cell_type": "markdown",
   "metadata": {},
   "source": [
    "This is a project in Kaggle (https://www.kaggle.com/c/house-prices-advanced-regression-techniques/overview). The objective is to predict sales prices. There are five steps in this project:\n",
    "1. Understand data\n",
    "2. Clean data\n",
    "3. Select important features\n",
    "4. find the right models to use and predict\n",
    "5. re-check the predicted results\n",
    "Let's look into the details of each step one by one."
   ]
  },
  {
   "cell_type": "markdown",
   "metadata": {},
   "source": [
    "## 1. Understand data\n",
    "    - Import both training and test data, check the shape (train.shape) to understand the data size\n",
    "    - Glance through the data, figure out\n",
    "        a. What's the object (y)?\n",
    "        b. How many features (X) are there in total? How many features are numerical? How many are categorical? "
   ]
  },
  {
   "cell_type": "markdown",
   "metadata": {},
   "source": [
    "## 2. Clean data\n",
    "     - First, in training data\n",
    "         - For features, delete the outliners to avoid overfitting \n",
    "             (Remember to reset index)\n",
    "         - For object, normalize to make sure they are close to Gaussian distribution, which is easier for prediction.\n",
    "             (Remember to convert the predicted value to the original ones)\n",
    "     - Then, combine both traning & test data, deal with missing data\n",
    "         - If there are more than 20% of data missing, then delete the whole column.\n",
    "         - Fill \n",
    "             - Fill \"0\" (numerical feature such as 'GarageCars'), \n",
    "             - Fill \"None\" (categorical feature such as 'BsmtCond') \n",
    "             - Fill \"median\" (group by \"Neighborhood\" and fill the \"LotFrontage\" as median)"
   ]
  },
  {
   "cell_type": "markdown",
   "metadata": {},
   "source": [
    "## 3. Select features\n",
    "    - For Numerical features, use heatmap to check the relationship with \"SalePrice\"\n",
    "        - Select the most correlated ones\n",
    "        - Drop the ones that showing the same information (only need to keep either \"GarageCars\" or \"GarageArea\")\n",
    "        - See if it's necessary to combine features, such as (\"TotalBsmtSF\" + \"1stFlrSF\"+'2ndFlrSF')\n",
    "    - For categorical features, \n",
    "        - Label encoding: only suitable for binary features, such as \"haspool\", \"has2ndfloor\", etc\n",
    "        - One-hot encoding: \n",
    "            - Pandas: get_dummies\n",
    "            - Sklearn: DictVectorizer\n",
    "            - Sklearn: LabelEncoder+OneHotEncoder (Reference: https://zhuanlan.zhihu.com/p/90782025)\n",
    "    - Select the important features\n",
    "        - Remove the features with low variance\n",
    "        - Univariate feature selection\n",
    "            - Pearson Correlation\n",
    "            - Model based ranking (RandomForestRegressor) \n",
    "                - good at non-linear models (Ref: https://blog.csdn.net/LY_ysys629/article/details/53641569)"
   ]
  },
  {
   "cell_type": "markdown",
   "metadata": {},
   "source": [
    "## 4. Train the model\n",
    "    - Which algorithms will be used?\n",
    "    - setup parameters\n",
    "    - Use StackingCVRegressor to combine different models"
   ]
  },
  {
   "cell_type": "markdown",
   "metadata": {},
   "source": [
    "## 5. Predict\n",
    "    - Predict the test data\n",
    "    - export as a *.csv file"
   ]
  },
  {
   "cell_type": "code",
   "execution_count": null,
   "metadata": {},
   "outputs": [],
   "source": []
  }
 ],
 "metadata": {
  "kernelspec": {
   "display_name": "Python 3",
   "language": "python",
   "name": "python3"
  },
  "language_info": {
   "codemirror_mode": {
    "name": "ipython",
    "version": 3
   },
   "file_extension": ".py",
   "mimetype": "text/x-python",
   "name": "python",
   "nbconvert_exporter": "python",
   "pygments_lexer": "ipython3",
   "version": "3.7.3"
  }
 },
 "nbformat": 4,
 "nbformat_minor": 2
}
